{
 "cells": [
  {
   "cell_type": "markdown",
   "metadata": {},
   "source": [
    "# OOP and SQL\n",
    "\n",
    "This morning we will be using Object Oriented Programming to interface with the Chinook SQL Database\n",
    "\n",
    "![Chinook Schema](images/schema.png)"
   ]
  },
  {
   "cell_type": "code",
   "execution_count": 1,
   "metadata": {
    "ExecuteTime": {
     "end_time": "2020-06-22T21:08:18.455343Z",
     "start_time": "2020-06-22T21:08:18.446764Z"
    }
   },
   "outputs": [],
   "source": [
    "# SQL Connection and Querying\n",
    "import sqlite3\n",
    "# Data manipulation\n",
    "import pandas as pd\n",
    "# os is used to create paths to files\n",
    "import os\n",
    "# For testing code\n",
    "from test_scripts.test_class import Test\n",
    "test = Test()"
   ]
  },
  {
   "cell_type": "markdown",
   "metadata": {},
   "source": [
    "We want to build a ```Chinook``` class that will allow us to easily access information in our database without having to write sql queries every time. We can do this with *attributes* and *methods*.\n",
    "\n",
    "Our class should have an attribute called ```tables``` that returns a list of tables within the database.\n",
    "\n",
    "<u><b>Let's review the code for collecting this information.</b></u>\n",
    "\n",
    "To collect the table names from a sqlite database, we can do the following:"
   ]
  },
  {
   "cell_type": "markdown",
   "metadata": {},
   "source": [
    "### 1) Open up a connection to our database"
   ]
  },
  {
   "cell_type": "code",
   "execution_count": 2,
   "metadata": {
    "ExecuteTime": {
     "end_time": "2020-06-22T20:51:08.981398Z",
     "start_time": "2020-06-22T20:51:08.978393Z"
    }
   },
   "outputs": [],
   "source": [
    "path = os.path.join('data', 'chinook.db')\n",
    "conn = sqlite3.connect(path)"
   ]
  },
  {
   "cell_type": "markdown",
   "metadata": {},
   "source": [
    "### 2) Create a cursor for our database\n",
    ">Note: A cursor does not need to be created when using ```pd.read_sql```\n",
    "\n",
    ">But depending on the use case for your code, pandas is not always the best choice!"
   ]
  },
  {
   "cell_type": "code",
   "execution_count": 3,
   "metadata": {
    "ExecuteTime": {
     "end_time": "2020-06-22T20:55:02.468691Z",
     "start_time": "2020-06-22T20:55:02.466045Z"
    }
   },
   "outputs": [],
   "source": [
    "cursor = conn.cursor()"
   ]
  },
  {
   "cell_type": "markdown",
   "metadata": {},
   "source": [
    "### 3) Execute a sql query"
   ]
  },
  {
   "cell_type": "code",
   "execution_count": 4,
   "metadata": {
    "ExecuteTime": {
     "end_time": "2020-06-22T20:55:55.977289Z",
     "start_time": "2020-06-22T20:55:55.972494Z"
    }
   },
   "outputs": [
    {
     "data": {
      "text/plain": [
       "[('albums',),\n",
       " ('artists',),\n",
       " ('customers',),\n",
       " ('employees',),\n",
       " ('genres',),\n",
       " ('invoices',),\n",
       " ('invoice_items',),\n",
       " ('media_types',),\n",
       " ('playlists',),\n",
       " ('playlist_track',),\n",
       " ('tracks',)]"
      ]
     },
     "execution_count": 4,
     "metadata": {},
     "output_type": "execute_result"
    }
   ],
   "source": [
    "cursor.execute('''SELECT name FROM sqlite_master\n",
    "                                        WHERE\n",
    "                                        type = 'table'\n",
    "                                        AND\n",
    "                                        name NOT LIKE 'sqlite_%';''').fetchall()"
   ]
  },
  {
   "cell_type": "markdown",
   "metadata": {},
   "source": [
    "As you can see this returns a list of tuples. \n",
    "\n",
    "<u>For convenience, we will use list comprehension to change this to a basic list.</u>"
   ]
  },
  {
   "cell_type": "code",
   "execution_count": 6,
   "metadata": {
    "ExecuteTime": {
     "end_time": "2020-06-22T21:00:59.730384Z",
     "start_time": "2020-06-22T21:00:59.723649Z"
    }
   },
   "outputs": [
    {
     "data": {
      "text/plain": [
       "['albums',\n",
       " 'artists',\n",
       " 'customers',\n",
       " 'employees',\n",
       " 'genres',\n",
       " 'invoices',\n",
       " 'invoice_items',\n",
       " 'media_types',\n",
       " 'playlists',\n",
       " 'playlist_track',\n",
       " 'tracks']"
      ]
     },
     "execution_count": 6,
     "metadata": {},
     "output_type": "execute_result"
    }
   ],
   "source": [
    "tables = cursor.execute('''SELECT name FROM sqlite_master\n",
    "                                        WHERE\n",
    "                                        type = 'table'\n",
    "                                        AND\n",
    "                                        name NOT LIKE 'sqlite_%';''').fetchall()\n",
    "\n",
    "tables = list(map(lambda x: x[0], tables))\n",
    "tables"
   ]
  },
  {
   "cell_type": "markdown",
   "metadata": {},
   "source": [
    "**Much better**"
   ]
  },
  {
   "cell_type": "markdown",
   "metadata": {},
   "source": [
    "*Ok ok*, in the cell below, let's create a class called ```Chinook```.\n",
    "\n",
    "The class should have an ```__init__()``` method.\n",
    "\n",
    ">Hint: *methods* are just functions inside classes with ```self``` as the first parameter of the function.\n",
    "\n",
    ">**Example:** \n",
    "\n",
    ">```class NameOfClass():\n",
    "    def name_of_method(self, other_paramaters_if_needed):\n",
    "        code here```\n",
    "        \n",
    "\n",
    "The ```__init__()``` method should have two paramaters:\n",
    "1. ```self```\n",
    "2. ```database_path```\n",
    "\n",
    "Within the ```__init__()``` method:\n",
    "1. A connection should be opened up to the database using the ```database_path``` variable and saved as a attribute.\n",
    "2. A cursor attribute should be created.\n",
    "3. A tables attribute should be created. \n",
    "\n",
    "The code to create the  ```tables``` attribute will be almost identical to the code up above. \n",
    "\n",
    "The main difference is that the final tables variable should look like this: ```self.tables```."
   ]
  },
  {
   "cell_type": "code",
   "execution_count": 7,
   "metadata": {
    "ExecuteTime": {
     "end_time": "2020-06-22T21:44:32.581152Z",
     "start_time": "2020-06-22T21:44:32.577543Z"
    }
   },
   "outputs": [],
   "source": [
    "# Your code here\n",
    "class Chinook():\n",
    "    def __init__(self, data_base_path):\n",
    "        self.conn = sqlite3.connect(data_base_path)\n",
    "        self.cursor = self.conn.cursor()\n",
    "        tables = self.cursor.execute('''SELECT name FROM sqlite_master\n",
    "                                        WHERE\n",
    "                                        type = 'table'\n",
    "                                        AND\n",
    "                                        name NOT LIKE 'sqlite_%';''').fetchall()\n",
    "        self.tables = list(map(lambda x: x[0], tables))\n",
    "        \n",
    "        "
   ]
  },
  {
   "cell_type": "markdown",
   "metadata": {},
   "source": [
    "**Let's test your class!**"
   ]
  },
  {
   "cell_type": "code",
   "execution_count": 8,
   "metadata": {
    "ExecuteTime": {
     "end_time": "2020-06-22T21:32:23.022613Z",
     "start_time": "2020-06-22T21:32:22.928896Z"
    }
   },
   "outputs": [
    {
     "data": {
      "text/markdown": [
       "✅ **Hey, you did it.  Good job.**"
      ],
      "text/plain": [
       "<IPython.core.display.Markdown object>"
      ]
     },
     "metadata": {},
     "output_type": "display_data"
    }
   ],
   "source": [
    "path = os.path.join('data', 'chinook.db')\n",
    "data = Chinook(path)\n",
    "test.run_test(data.tables, 'tables')"
   ]
  },
  {
   "cell_type": "markdown",
   "metadata": {},
   "source": [
    "**Let's add a *method* to our class called ```search_employees```.**\n",
    "\n",
    "This method should use ```pd.read_sql``` to return a dataframe with a single row for the employee you search for.\n",
    "\n",
    "<u>```search_employees``` should receive three parameters.</u>\n",
    "1. ```self```\n",
    "2. The firstname of an employee.\n",
    "3. The lastname of an employee.\n",
    "\n",
    "If the employee is not found, the method should return the string ```'Employee was not found.'``` "
   ]
  },
  {
   "cell_type": "code",
   "execution_count": 18,
   "metadata": {},
   "outputs": [],
   "source": [
    "class Chinook():\n",
    "    def __init__(self, database_path):\n",
    "        Chinook.conn = sqlite3.connect(path)\n",
    "        Chinook.cursor = Chinook.conn.cursor()\n",
    "\n",
    "        tables = Chinook.cursor.execute('''SELECT name FROM sqlite_master\n",
    "                                        WHERE\n",
    "                                        type = 'table'\n",
    "                                        AND\n",
    "                                        name NOT LIKE 'sqlite_%';''')\n",
    "        self.tables = [x[0] for x in tables]\n",
    "    \n",
    "# --> Your code here <-------------\n",
    "    def search_employee(self, firstname, lastname):\n",
    "        df = pd.read_sql(f\"\"\"SELECT * FROM employees \n",
    "                                        WHERE FirstName = '{firstname}'\n",
    "                                        AND LastName = '{lastname}'\"\"\", Chinook.conn)\n",
    "        if len(df) < 1:\n",
    "            return \"Employee was not found\"\n",
    "        else:\n",
    "            return df"
   ]
  },
  {
   "cell_type": "markdown",
   "metadata": {},
   "source": [
    "**Let's test your code on an existing employee!**"
   ]
  },
  {
   "cell_type": "code",
   "execution_count": 16,
   "metadata": {
    "ExecuteTime": {
     "end_time": "2020-06-22T21:27:49.449398Z",
     "start_time": "2020-06-22T21:27:49.409173Z"
    }
   },
   "outputs": [
    {
     "data": {
      "text/markdown": [
       "✅ **Hey, you did it.  Good job.**"
      ],
      "text/plain": [
       "<IPython.core.display.Markdown object>"
      ]
     },
     "metadata": {},
     "output_type": "display_data"
    }
   ],
   "source": [
    "data = Chinook(path)\n",
    "test.run_test(data.search_employee('Jane', 'Peacock'), 'employee1')"
   ]
  },
  {
   "cell_type": "markdown",
   "metadata": {},
   "source": [
    "**Now let's test on a nonexistant employee!**"
   ]
  },
  {
   "cell_type": "code",
   "execution_count": 17,
   "metadata": {
    "ExecuteTime": {
     "end_time": "2020-06-22T21:29:00.562804Z",
     "start_time": "2020-06-22T21:29:00.556374Z"
    }
   },
   "outputs": [
    {
     "data": {
      "text/markdown": [
       "❌ **Try Again**"
      ],
      "text/plain": [
       "<IPython.core.display.Markdown object>"
      ]
     },
     "metadata": {},
     "output_type": "display_data"
    }
   ],
   "source": [
    "test.run_test(data.search_employee(\"Joe\", \"Shmo\"), 'employee2')"
   ]
  },
  {
   "cell_type": "markdown",
   "metadata": {},
   "source": [
    "In the cell below describe the difference between an attribute and a method."
   ]
  },
  {
   "cell_type": "markdown",
   "metadata": {},
   "source": [
    "-------Use this markdown cell to describe the difference between attributes and methods---------"
   ]
  },
  {
   "cell_type": "markdown",
   "metadata": {},
   "source": [
    "<u>There are a lot of really helpful ways OOP can be used to iteract with data.</u>\n",
    "\n",
    "**If you still have time,** I've added some extra functionality to the ```Chinook``` class!\n",
    "\n",
    "Take a look at it, and in a markdown cell, describe what the additions are doing.\n",
    "\n",
    ">Note: You may need to google ```setattr```!"
   ]
  },
  {
   "cell_type": "code",
   "execution_count": null,
   "metadata": {},
   "outputs": [],
   "source": [
    "class Chinook():\n",
    "    def __init__(self, database_path):\n",
    "        Chinook.conn = sqlite3.connect(path)\n",
    "        Chinook.cursor = Chinook.conn.cursor()\n",
    "\n",
    "        tables = Chinook.cursor.execute('''SELECT name FROM sqlite_master\n",
    "                                        WHERE\n",
    "                                        type = 'table'\n",
    "                                        AND\n",
    "                                        name NOT LIKE 'sqlite_%';''')\n",
    "        self.tables = [x[0] for x in tables]\n",
    "        \n",
    "        # =========== NEW ADDITION HERE ==========\n",
    "        genres = Chinook.cursor.execute('''SELECT DISTINCT(Name) from genres;''').fetchall()\n",
    "        self.genres = [x[0] for x in genres]\n",
    "        \n",
    "        # =========== NEW ADDITION HERE ==========\n",
    "        for table in self.tables:\n",
    "            entire_table = pd.read_sql('''SELECT * FROM {}'''.format(table), Chinook.conn)\n",
    "            setattr(self, table, entire_table)\n",
    "    \n",
    "    # =========== NEW ADDITION HERE ========== \n",
    "    def query(self, query_string):\n",
    "        return pd.read_sql(query_string, Chinook.conn)\n",
    "\n",
    "    \n",
    "    def search_employee(self, firstname, lastname):\n",
    "        result = self.query('''SELECT * FROM employees\n",
    "                            WHERE FirstName = \"{}\"\n",
    "                            AND LastName = \"{}\"'''.format(firstname, lastname))\n",
    "        if len(result) < 1:\n",
    "            return 'Employee was not found.'\n",
    "            \n",
    "        else:\n",
    "            return result\n",
    "        \n",
    "    # =========== NEW ADDITION HERE ==========\n",
    "    def albums_by_genre(self, genre):\n",
    "        return self.query('''SELECT DISTINCT(Title) FROM albums\n",
    "                            INNER JOIN tracks USING(AlbumId)\n",
    "                            JOIN genres USING(GenreId)\n",
    "                            WHERE genres.Name = \"{}\"'''.format(genre.title()))\n",
    "\n",
    "    "
   ]
  }
 ],
 "metadata": {
  "hide_input": false,
  "kernelspec": {
   "display_name": "Python 3",
   "language": "python",
   "name": "python3"
  },
  "language_info": {
   "codemirror_mode": {
    "name": "ipython",
    "version": 3
   },
   "file_extension": ".py",
   "mimetype": "text/x-python",
   "name": "python",
   "nbconvert_exporter": "python",
   "pygments_lexer": "ipython3",
   "version": "3.6.9"
  },
  "toc": {
   "base_numbering": 1,
   "nav_menu": {},
   "number_sections": false,
   "sideBar": true,
   "skip_h1_title": true,
   "title_cell": "Table of Contents",
   "title_sidebar": "Contents",
   "toc_cell": false,
   "toc_position": {},
   "toc_section_display": true,
   "toc_window_display": false
  },
  "varInspector": {
   "cols": {
    "lenName": 16,
    "lenType": 16,
    "lenVar": 40
   },
   "kernels_config": {
    "python": {
     "delete_cmd_postfix": "",
     "delete_cmd_prefix": "del ",
     "library": "var_list.py",
     "varRefreshCmd": "print(var_dic_list())"
    },
    "r": {
     "delete_cmd_postfix": ") ",
     "delete_cmd_prefix": "rm(",
     "library": "var_list.r",
     "varRefreshCmd": "cat(var_dic_list()) "
    }
   },
   "types_to_exclude": [
    "module",
    "function",
    "builtin_function_or_method",
    "instance",
    "_Feature"
   ],
   "window_display": false
  }
 },
 "nbformat": 4,
 "nbformat_minor": 4
}
